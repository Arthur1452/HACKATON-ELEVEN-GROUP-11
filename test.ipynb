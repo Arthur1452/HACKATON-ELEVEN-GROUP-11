{
 "cells": [
  {
   "cell_type": "code",
   "execution_count": null,
   "id": "284a09dd",
   "metadata": {},
   "outputs": [],
   "source": []
  },
  {
   "cell_type": "code",
   "execution_count": 2,
   "id": "ef9a4fbc",
   "metadata": {},
   "outputs": [],
   "source": [
    "import numpy as np\n",
    "import matplotlib.pyplot as plt\n",
    "import matplotlib.colors as mcolors\n",
    "from sklearn.model_selection import train_test_split\n",
    "from sklearn.preprocessing import PolynomialFeatures\n",
    "from sklearn.linear_model import LinearRegression, Ridge\n",
    "from sklearn.metrics import mean_squared_error\n",
    "from sklearn.decomposition import PCA\n",
    "import pandas as pd"
   ]
  },
  {
   "cell_type": "code",
   "execution_count": null,
   "id": "725b13e4",
   "metadata": {},
   "outputs": [],
   "source": [
    "def RMSE(x,y):\n",
    "  return np.sqrt(mean_squared_error(x,y))"
   ]
  },
  {
   "cell_type": "code",
   "execution_count": 13,
   "id": "36127dca",
   "metadata": {},
   "outputs": [
    {
     "data": {
      "text/html": [
       "<div>\n",
       "<style scoped>\n",
       "    .dataframe tbody tr th:only-of-type {\n",
       "        vertical-align: middle;\n",
       "    }\n",
       "\n",
       "    .dataframe tbody tr th {\n",
       "        vertical-align: top;\n",
       "    }\n",
       "\n",
       "    .dataframe thead th {\n",
       "        text-align: right;\n",
       "    }\n",
       "</style>\n",
       "<table border=\"1\" class=\"dataframe\">\n",
       "  <thead>\n",
       "    <tr style=\"text-align: right;\">\n",
       "      <th></th>\n",
       "      <th>ADJUST_CAPACITY</th>\n",
       "      <th>DOWNTIME</th>\n",
       "      <th>CURRENT_WAIT_TIME</th>\n",
       "      <th>TIME_TO_PARADE_1</th>\n",
       "      <th>TIME_TO_PARADE_2</th>\n",
       "      <th>TIME_TO_NIGHT_SHOW</th>\n",
       "      <th>WAIT_TIME_IN_2H</th>\n",
       "    </tr>\n",
       "  </thead>\n",
       "  <tbody>\n",
       "    <tr>\n",
       "      <th>count</th>\n",
       "      <td>37018.000000</td>\n",
       "      <td>37018.000000</td>\n",
       "      <td>37018.000000</td>\n",
       "      <td>22994.000000</td>\n",
       "      <td>6212.000000</td>\n",
       "      <td>22994.000000</td>\n",
       "      <td>37018.000000</td>\n",
       "    </tr>\n",
       "    <tr>\n",
       "      <th>mean</th>\n",
       "      <td>413.738352</td>\n",
       "      <td>0.268761</td>\n",
       "      <td>23.389567</td>\n",
       "      <td>171.926590</td>\n",
       "      <td>-136.502737</td>\n",
       "      <td>425.542968</td>\n",
       "      <td>23.605678</td>\n",
       "    </tr>\n",
       "    <tr>\n",
       "      <th>std</th>\n",
       "      <td>252.389589</td>\n",
       "      <td>1.594229</td>\n",
       "      <td>14.114572</td>\n",
       "      <td>194.196677</td>\n",
       "      <td>184.119044</td>\n",
       "      <td>203.332305</td>\n",
       "      <td>14.282232</td>\n",
       "    </tr>\n",
       "    <tr>\n",
       "      <th>min</th>\n",
       "      <td>3.400000</td>\n",
       "      <td>0.000000</td>\n",
       "      <td>0.000000</td>\n",
       "      <td>-480.000000</td>\n",
       "      <td>-595.000000</td>\n",
       "      <td>-165.000000</td>\n",
       "      <td>0.000000</td>\n",
       "    </tr>\n",
       "    <tr>\n",
       "      <th>25%</th>\n",
       "      <td>247.000000</td>\n",
       "      <td>0.000000</td>\n",
       "      <td>15.000000</td>\n",
       "      <td>15.000000</td>\n",
       "      <td>-285.000000</td>\n",
       "      <td>255.000000</td>\n",
       "      <td>15.000000</td>\n",
       "    </tr>\n",
       "    <tr>\n",
       "      <th>50%</th>\n",
       "      <td>247.000000</td>\n",
       "      <td>0.000000</td>\n",
       "      <td>25.000000</td>\n",
       "      <td>180.000000</td>\n",
       "      <td>-135.000000</td>\n",
       "      <td>420.000000</td>\n",
       "      <td>25.000000</td>\n",
       "    </tr>\n",
       "    <tr>\n",
       "      <th>75%</th>\n",
       "      <td>756.000000</td>\n",
       "      <td>0.000000</td>\n",
       "      <td>30.000000</td>\n",
       "      <td>345.000000</td>\n",
       "      <td>20.000000</td>\n",
       "      <td>585.000000</td>\n",
       "      <td>35.000000</td>\n",
       "    </tr>\n",
       "    <tr>\n",
       "      <th>max</th>\n",
       "      <td>756.000000</td>\n",
       "      <td>14.000000</td>\n",
       "      <td>155.000000</td>\n",
       "      <td>570.000000</td>\n",
       "      <td>235.000000</td>\n",
       "      <td>840.000000</td>\n",
       "      <td>155.000000</td>\n",
       "    </tr>\n",
       "  </tbody>\n",
       "</table>\n",
       "</div>"
      ],
      "text/plain": [
       "       ADJUST_CAPACITY      DOWNTIME  CURRENT_WAIT_TIME  TIME_TO_PARADE_1  \\\n",
       "count     37018.000000  37018.000000       37018.000000      22994.000000   \n",
       "mean        413.738352      0.268761          23.389567        171.926590   \n",
       "std         252.389589      1.594229          14.114572        194.196677   \n",
       "min           3.400000      0.000000           0.000000       -480.000000   \n",
       "25%         247.000000      0.000000          15.000000         15.000000   \n",
       "50%         247.000000      0.000000          25.000000        180.000000   \n",
       "75%         756.000000      0.000000          30.000000        345.000000   \n",
       "max         756.000000     14.000000         155.000000        570.000000   \n",
       "\n",
       "       TIME_TO_PARADE_2  TIME_TO_NIGHT_SHOW  WAIT_TIME_IN_2H  \n",
       "count       6212.000000        22994.000000     37018.000000  \n",
       "mean        -136.502737          425.542968        23.605678  \n",
       "std          184.119044          203.332305        14.282232  \n",
       "min         -595.000000         -165.000000         0.000000  \n",
       "25%         -285.000000          255.000000        15.000000  \n",
       "50%         -135.000000          420.000000        25.000000  \n",
       "75%           20.000000          585.000000        35.000000  \n",
       "max          235.000000          840.000000       155.000000  "
      ]
     },
     "execution_count": 13,
     "metadata": {},
     "output_type": "execute_result"
    }
   ],
   "source": [
    "set = pd.read_csv(\"waiting_times_train.csv\")\n",
    "set.describe()"
   ]
  },
  {
   "cell_type": "code",
   "execution_count": 16,
   "id": "a18f5c45",
   "metadata": {},
   "outputs": [
    {
     "name": "stdout",
     "output_type": "stream",
     "text": [
      "<class 'pandas.core.frame.DataFrame'>\n",
      "RangeIndex: 37018 entries, 0 to 37017\n",
      "Data columns (total 18 columns):\n",
      " #   Column                    Non-Null Count  Dtype  \n",
      "---  ------                    --------------  -----  \n",
      " 0   DATETIME                  37018 non-null  object \n",
      " 1   ENTITY_DESCRIPTION_SHORT  37018 non-null  object \n",
      " 2   ADJUST_CAPACITY           37018 non-null  float64\n",
      " 3   DOWNTIME                  37018 non-null  int64  \n",
      " 4   CURRENT_WAIT_TIME         37018 non-null  int64  \n",
      " 5   TIME_TO_PARADE_1          22994 non-null  float64\n",
      " 6   TIME_TO_PARADE_2          6212 non-null   float64\n",
      " 7   TIME_TO_NIGHT_SHOW        22994 non-null  float64\n",
      " 8   WAIT_TIME_IN_2H           37018 non-null  float64\n",
      " 9   temp                      37018 non-null  float64\n",
      " 10  dew_point                 37018 non-null  float64\n",
      " 11  feels_like                37018 non-null  float64\n",
      " 12  pressure                  37018 non-null  float64\n",
      " 13  humidity                  37018 non-null  float64\n",
      " 14  wind_speed                37018 non-null  float64\n",
      " 15  rain_1h                   37018 non-null  float64\n",
      " 16  snow_1h                   35035 non-null  float64\n",
      " 17  clouds_all                37018 non-null  float64\n",
      "dtypes: float64(14), int64(2), object(2)\n",
      "memory usage: 5.1+ MB\n"
     ]
    }
   ],
   "source": [
    "meteo = pd.read_csv(\"weather_data.csv\")\n",
    "train_set = set.merge(meteo, on= \"DATETIME\", how = \"left\")\n",
    "train_set.info()"
   ]
  },
  {
   "cell_type": "code",
   "execution_count": 10,
   "id": "b22dd077",
   "metadata": {},
   "outputs": [
    {
     "name": "stdout",
     "output_type": "stream",
     "text": [
      "0        30.0\n",
      "1        25.0\n",
      "2        35.0\n",
      "3        10.0\n",
      "4        10.0\n",
      "         ... \n",
      "37013    10.0\n",
      "37014    20.0\n",
      "37015    10.0\n",
      "37016    45.0\n",
      "37017    20.0\n",
      "Name: WAIT_TIME_IN_2H, Length: 37018, dtype: float64\n",
      "['DATETIME', 'ENTITY_DESCRIPTION_SHORT', 'ADJUST_CAPACITY', 'DOWNTIME', 'CURRENT_WAIT_TIME', 'TIME_TO_PARADE_1', 'TIME_TO_PARADE_2', 'TIME_TO_NIGHT_SHOW', 'WAIT_TIME_IN_2H']\n"
     ]
    }
   ],
   "source": [
    "Y = train_set['WAIT_TIME_IN_2H']\n",
    "print(Y)\n",
    "categories = train_set.columns.tolist()\n",
    "print(categories)"
   ]
  },
  {
   "cell_type": "code",
   "execution_count": 11,
   "id": "26546842",
   "metadata": {},
   "outputs": [
    {
     "data": {
      "image/png": "[encoded data removed]",
      "text/plain": [
       "<Figure size 640x480 with 1 Axes>"
      ]
     },
     "metadata": {},
     "output_type": "display_data"
    }
   ],
   "source": [
    "plt.figure()\n",
    "plt.plot(train_set[\"ADJUST_CAPACITY\"], Y)\n",
    "plt.show()"
   ]
  },
  {
   "cell_type": "code",
   "execution_count": null,
   "id": "e64e9160",
   "metadata": {},
   "outputs": [],
   "source": [
    "def poly_fit(X, Y, deg):\n",
    "            \n",
    "    #prend X et renvoit un tableau avec les X, X**2 ect jusqu'à X**deg\n",
    "    X_poly = PolynomialFeatures(degree=deg).fit_transform(X)\n",
    "    \n",
    "    lin_reg = LinearRegression()\n",
    "    lin_reg.fit(X_poly,Y)\n",
    "    return lin_reg\n",
    "\n",
    "#pour appliquer la regression sur de nouvelles valeures\n",
    "def poly_aply(lin_reg, degree,X):\n",
    "    \n",
    "    \n",
    "    X_poly = PolynomialFeatures(degree=degree).fit_transform(X)\n",
    "    return lin_reg.predict(X_poly)\n"
   ]
  },
  {
   "cell_type": "code",
   "execution_count": null,
   "id": "6d14aaac",
   "metadata": {},
   "outputs": [],
   "source": [
    "#calcul du rmse pour \n",
    "deg = 5\n",
    "X_train = \n",
    "lin_reg = poly_fit()"
   ]
  }
 ],
 "metadata": {
  "kernelspec": {
   "display_name": "Python 3",
   "language": "python",
   "name": "python3"
  },
  "language_info": {
   "codemirror_mode": {
    "name": "ipython",
    "version": 3
   },
   "file_extension": ".py",
   "mimetype": "text/x-python",
   "name": "python",
   "nbconvert_exporter": "python",
   "pygments_lexer": "ipython3",
   "version": "3.12.5"
  }
 },
 "nbformat": 4,
 "nbformat_minor": 5
}
